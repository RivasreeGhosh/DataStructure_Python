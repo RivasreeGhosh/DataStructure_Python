{
 "cells": [
  {
   "cell_type": "markdown",
   "id": "03b8545d-78c2-43e1-80d8-dc6e8b91d5db",
   "metadata": {},
   "source": [
    "Q1. How do you comment code in Python? What are the different types of comments?"
   ]
  },
  {
   "cell_type": "code",
   "execution_count": 20,
   "id": "b7a073c6-d9f4-44fe-9fac-aba14947598a",
   "metadata": {},
   "outputs": [
    {
     "data": {
      "text/plain": [
       "\"\\nprint('hello')\\n\""
      ]
     },
     "execution_count": 20,
     "metadata": {},
     "output_type": "execute_result"
    }
   ],
   "source": [
    "# print('hello')\n",
    "\"\"\"\n",
    "print('hello')\n",
    "\"\"\""
   ]
  },
  {
   "cell_type": "markdown",
   "id": "b1e37ba3-a82e-4077-bfb8-f73d76db2ac2",
   "metadata": {},
   "source": [
    "Code can be commented in python using # or \"\"\".\n",
    "There is 2 type of comments;\n",
    "1. Single Line Comment\n",
    "2. Multi Line Comment"
   ]
  },
  {
   "cell_type": "markdown",
   "id": "212743fa-4124-48e3-a211-411e0c876b01",
   "metadata": {},
   "source": [
    "Q2. What are variables in Python? How do you declare and assign values to variables?"
   ]
  },
  {
   "cell_type": "markdown",
   "id": "8d132906-119c-4d79-a985-5401f3a40aa5",
   "metadata": {},
   "source": [
    "There are different types of variables in python;\n",
    "\n",
    "1. Integer\n",
    "Int_A = 10\n",
    "2. Float\n",
    "Fl_B = 7.89\n",
    "3. Boolean\n",
    "True or False\n",
    "4. String\n",
    "Str_1 = 'python'\n",
    "5. List\n",
    "L1 = [1,2,0.5,'pws']\n",
    "6. Tuple\n",
    "T1 = (3, 5, 8, [2,1])\n",
    "7. Set \n",
    "S1 = {1,4,6}\n",
    "8. Dictionary\n",
    "D1 = {'keys':'values'}"
   ]
  },
  {
   "cell_type": "markdown",
   "id": "285335cc-9917-4b86-8768-d823f1e884b2",
   "metadata": {},
   "source": [
    "Q3. How do you convert one data type to another in Python?"
   ]
  },
  {
   "cell_type": "code",
   "execution_count": 27,
   "id": "389a2251-b6a3-4eb2-8508-af6b08ffb747",
   "metadata": {},
   "outputs": [
    {
     "data": {
      "text/plain": [
       "str"
      ]
     },
     "execution_count": 27,
     "metadata": {},
     "output_type": "execute_result"
    }
   ],
   "source": [
    "# One data type can be converted to other just by doing typecasting.\n",
    "\n",
    "A = 10\n",
    "Var = str(A)\n",
    "type(Var)"
   ]
  },
  {
   "cell_type": "markdown",
   "id": "2926b82e-8ca2-4f42-9436-b1b620c053f6",
   "metadata": {},
   "source": [
    "Q4. How do you write and execute a Python script from the command line?"
   ]
  },
  {
   "cell_type": "markdown",
   "id": "017ad426-be91-4b71-a4dd-cd82155ba0c2",
   "metadata": {},
   "source": [
    "python first_script.py\n",
    "Hello World!"
   ]
  },
  {
   "cell_type": "markdown",
   "id": "e0fcc267-339d-4c73-b3e4-c84fd1d8c15d",
   "metadata": {},
   "source": [
    "Q5. Given a list my_list = [1, 2, 3, 4, 5], write the code to slice the list and obtain the sub-list [2, 3]."
   ]
  },
  {
   "cell_type": "code",
   "execution_count": 37,
   "id": "0d15c505-6e17-4f1e-9804-befe92ccd16a",
   "metadata": {},
   "outputs": [
    {
     "data": {
      "text/plain": [
       "[2, 3]"
      ]
     },
     "execution_count": 37,
     "metadata": {},
     "output_type": "execute_result"
    }
   ],
   "source": [
    "my_list = [1, 2, 3, 4, 5]\n",
    "my_list[1:3]"
   ]
  },
  {
   "cell_type": "markdown",
   "id": "4d397e21-9e11-4dd6-94da-2aa54a117e64",
   "metadata": {},
   "source": [
    "Q6. What is a complex number in mathematics, and how is it represented in Python?"
   ]
  },
  {
   "cell_type": "code",
   "execution_count": 39,
   "id": "58f8fdd1-8540-46a9-938d-1211e757dad9",
   "metadata": {},
   "outputs": [
    {
     "data": {
      "text/plain": [
       "complex"
      ]
     },
     "execution_count": 39,
     "metadata": {},
     "output_type": "execute_result"
    }
   ],
   "source": [
    "#Complex numbers are the numbers that contain one real and one imaginary part. \n",
    "#a+ib\n",
    "\n",
    "#Python representation - \n",
    "Com_No = 4+5j\n",
    "type(Com_No)\n"
   ]
  },
  {
   "cell_type": "markdown",
   "id": "f6362e9e-a4c3-4f31-99f2-58c42ccebd68",
   "metadata": {},
   "source": [
    "Q7. What is the correct way to declare a variable named age and assign the value 25 to it?"
   ]
  },
  {
   "cell_type": "code",
   "execution_count": 40,
   "id": "9e944a1c-fd64-417a-b9f7-c4db938ac781",
   "metadata": {},
   "outputs": [],
   "source": [
    "age = 25"
   ]
  },
  {
   "cell_type": "markdown",
   "id": "2734b71b-2a83-4205-a23f-ac03826b6e68",
   "metadata": {},
   "source": [
    "Q8. Declare a variable named price and assign the value 9.99 to it. What data type does this variable\n",
    "belong to?"
   ]
  },
  {
   "cell_type": "markdown",
   "id": "d361572a-59ee-4a83-8d67-47e3f59f436c",
   "metadata": {},
   "source": [
    "This variable belong to float type."
   ]
  },
  {
   "cell_type": "markdown",
   "id": "c028aa42-3096-4828-8be7-14860d3b53d0",
   "metadata": {},
   "source": [
    "Q9. Create a variable named name and assign your full name to it as a string. How would you print the\n",
    "value of this variable?"
   ]
  },
  {
   "cell_type": "code",
   "execution_count": 50,
   "id": "012bb119-b25f-412c-a238-e4360222724b",
   "metadata": {},
   "outputs": [],
   "source": [
    "name = 'Rivasree Ghosh'"
   ]
  },
  {
   "cell_type": "code",
   "execution_count": 51,
   "id": "16c5d45c-fd35-47a4-8586-07842e7b371e",
   "metadata": {},
   "outputs": [
    {
     "name": "stdout",
     "output_type": "stream",
     "text": [
      "My name is Rivasree Ghosh\n"
     ]
    }
   ],
   "source": [
    "print('My name is {}'.format(name))"
   ]
  },
  {
   "cell_type": "markdown",
   "id": "ac3c753d-7aa5-4150-91be-bca426fadd9a",
   "metadata": {},
   "source": [
    "Q10. Given the string \"Hello, World!\", extract the substring \"World\"."
   ]
  },
  {
   "cell_type": "code",
   "execution_count": 58,
   "id": "9989c955-47dc-4060-accf-8f3cdd8f2190",
   "metadata": {},
   "outputs": [
    {
     "data": {
      "text/plain": [
       "13"
      ]
     },
     "execution_count": 58,
     "metadata": {},
     "output_type": "execute_result"
    }
   ],
   "source": [
    "str = \"Hello, World!\"\n",
    "len(str)"
   ]
  },
  {
   "cell_type": "code",
   "execution_count": 64,
   "id": "8936c670-159e-465a-9358-9e59dad20c91",
   "metadata": {},
   "outputs": [
    {
     "data": {
      "text/plain": [
       "'World'"
      ]
     },
     "execution_count": 64,
     "metadata": {},
     "output_type": "execute_result"
    }
   ],
   "source": [
    "str[7:12]"
   ]
  },
  {
   "cell_type": "markdown",
   "id": "94ac6acd-2d0e-4411-a8fa-56f46d680d4c",
   "metadata": {},
   "source": [
    "Q11. Create a variable named \"is_student\" and assign it a boolean value indicating whether you are\n",
    "currently a student or not."
   ]
  },
  {
   "cell_type": "code",
   "execution_count": 65,
   "id": "6c9b33a8-e268-420e-b7d8-b45f1d8a5e69",
   "metadata": {},
   "outputs": [
    {
     "data": {
      "text/plain": [
       "bool"
      ]
     },
     "execution_count": 65,
     "metadata": {},
     "output_type": "execute_result"
    }
   ],
   "source": [
    "is_student = False\n",
    "type(is_student)"
   ]
  },
  {
   "cell_type": "code",
   "execution_count": null,
   "id": "9c202868-8ec6-4af4-ad16-244135c1d9d5",
   "metadata": {},
   "outputs": [],
   "source": []
  }
 ],
 "metadata": {
  "kernelspec": {
   "display_name": "Python 3 (ipykernel)",
   "language": "python",
   "name": "python3"
  },
  "language_info": {
   "codemirror_mode": {
    "name": "ipython",
    "version": 3
   },
   "file_extension": ".py",
   "mimetype": "text/x-python",
   "name": "python",
   "nbconvert_exporter": "python",
   "pygments_lexer": "ipython3",
   "version": "3.10.8"
  }
 },
 "nbformat": 4,
 "nbformat_minor": 5
}
